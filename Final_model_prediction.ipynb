{
 "cells": [
  {
   "cell_type": "code",
   "execution_count": 1,
   "metadata": {},
   "outputs": [
    {
     "data": {
      "text/html": [
       "<div>\n",
       "<style scoped>\n",
       "    .dataframe tbody tr th:only-of-type {\n",
       "        vertical-align: middle;\n",
       "    }\n",
       "\n",
       "    .dataframe tbody tr th {\n",
       "        vertical-align: top;\n",
       "    }\n",
       "\n",
       "    .dataframe thead th {\n",
       "        text-align: right;\n",
       "    }\n",
       "</style>\n",
       "<table border=\"1\" class=\"dataframe\">\n",
       "  <thead>\n",
       "    <tr style=\"text-align: right;\">\n",
       "      <th></th>\n",
       "      <th>z1</th>\n",
       "      <th>z2</th>\n",
       "      <th>z3</th>\n",
       "      <th>z4</th>\n",
       "      <th>z5</th>\n",
       "      <th>z6</th>\n",
       "      <th>z7</th>\n",
       "      <th>z8</th>\n",
       "      <th>z9</th>\n",
       "      <th>z10</th>\n",
       "      <th>...</th>\n",
       "      <th>z88</th>\n",
       "      <th>z89</th>\n",
       "      <th>z90</th>\n",
       "      <th>z91</th>\n",
       "      <th>z92</th>\n",
       "      <th>z93</th>\n",
       "      <th>z94</th>\n",
       "      <th>z95</th>\n",
       "      <th>z96</th>\n",
       "      <th>z97</th>\n",
       "    </tr>\n",
       "  </thead>\n",
       "  <tbody>\n",
       "    <tr>\n",
       "      <th>0</th>\n",
       "      <td>3.479755e-11</td>\n",
       "      <td>1.729669e-06</td>\n",
       "      <td>-1.074505e-06</td>\n",
       "      <td>1.696733e-06</td>\n",
       "      <td>1.408154e-06</td>\n",
       "      <td>-1.247660e-06</td>\n",
       "      <td>4.392523e-07</td>\n",
       "      <td>-1.822577e-07</td>\n",
       "      <td>-1.978193e-06</td>\n",
       "      <td>-4.215552e-08</td>\n",
       "      <td>...</td>\n",
       "      <td>-3.758139e-07</td>\n",
       "      <td>-2.056056e-07</td>\n",
       "      <td>-1.810260e-06</td>\n",
       "      <td>1.181334e-06</td>\n",
       "      <td>4.510038e-07</td>\n",
       "      <td>4.933022e-08</td>\n",
       "      <td>-1.209462e-06</td>\n",
       "      <td>8.495825e-08</td>\n",
       "      <td>-1.360888e-07</td>\n",
       "      <td>-8.673617e-19</td>\n",
       "    </tr>\n",
       "    <tr>\n",
       "      <th>1</th>\n",
       "      <td>-5.774669e-10</td>\n",
       "      <td>-9.667019e-07</td>\n",
       "      <td>-1.172746e-06</td>\n",
       "      <td>-8.148441e-07</td>\n",
       "      <td>-1.085682e-06</td>\n",
       "      <td>-2.618001e-08</td>\n",
       "      <td>1.536875e-06</td>\n",
       "      <td>-4.809667e-07</td>\n",
       "      <td>7.355430e-08</td>\n",
       "      <td>1.620232e-06</td>\n",
       "      <td>...</td>\n",
       "      <td>-9.616060e-07</td>\n",
       "      <td>-3.501720e-07</td>\n",
       "      <td>2.454178e-06</td>\n",
       "      <td>-9.384168e-07</td>\n",
       "      <td>-2.559091e-07</td>\n",
       "      <td>9.168085e-07</td>\n",
       "      <td>8.087109e-07</td>\n",
       "      <td>7.078943e-07</td>\n",
       "      <td>4.946341e-07</td>\n",
       "      <td>-6.505213e-19</td>\n",
       "    </tr>\n",
       "    <tr>\n",
       "      <th>2</th>\n",
       "      <td>7.974670e-10</td>\n",
       "      <td>5.440602e-07</td>\n",
       "      <td>5.968525e-07</td>\n",
       "      <td>-2.136242e-08</td>\n",
       "      <td>-2.463316e-07</td>\n",
       "      <td>4.842712e-07</td>\n",
       "      <td>-8.860241e-07</td>\n",
       "      <td>6.470653e-07</td>\n",
       "      <td>5.430934e-07</td>\n",
       "      <td>-1.458603e-06</td>\n",
       "      <td>...</td>\n",
       "      <td>1.308622e-06</td>\n",
       "      <td>-1.009185e-06</td>\n",
       "      <td>-2.592479e-06</td>\n",
       "      <td>-1.474458e-06</td>\n",
       "      <td>-1.413626e-06</td>\n",
       "      <td>1.379344e-07</td>\n",
       "      <td>-3.167636e-07</td>\n",
       "      <td>-5.100911e-07</td>\n",
       "      <td>-4.025520e-07</td>\n",
       "      <td>1.301043e-18</td>\n",
       "    </tr>\n",
       "    <tr>\n",
       "      <th>3</th>\n",
       "      <td>-2.959882e-10</td>\n",
       "      <td>3.390513e-07</td>\n",
       "      <td>2.861875e-07</td>\n",
       "      <td>1.237342e-06</td>\n",
       "      <td>1.548561e-06</td>\n",
       "      <td>-4.017564e-07</td>\n",
       "      <td>-7.252355e-07</td>\n",
       "      <td>-5.407646e-07</td>\n",
       "      <td>-1.974723e-08</td>\n",
       "      <td>-8.548541e-07</td>\n",
       "      <td>...</td>\n",
       "      <td>-1.048949e-06</td>\n",
       "      <td>7.127258e-07</td>\n",
       "      <td>5.924098e-07</td>\n",
       "      <td>-6.060519e-07</td>\n",
       "      <td>2.269420e-06</td>\n",
       "      <td>3.904686e-07</td>\n",
       "      <td>-5.901801e-07</td>\n",
       "      <td>9.370105e-07</td>\n",
       "      <td>1.087443e-07</td>\n",
       "      <td>-3.373336e-09</td>\n",
       "    </tr>\n",
       "    <tr>\n",
       "      <th>4</th>\n",
       "      <td>1.426321e-10</td>\n",
       "      <td>-8.383938e-07</td>\n",
       "      <td>-8.720060e-08</td>\n",
       "      <td>-1.354042e-06</td>\n",
       "      <td>-1.309397e-06</td>\n",
       "      <td>9.558595e-07</td>\n",
       "      <td>9.235621e-07</td>\n",
       "      <td>1.726365e-06</td>\n",
       "      <td>1.359531e-07</td>\n",
       "      <td>-4.867452e-07</td>\n",
       "      <td>...</td>\n",
       "      <td>-6.893331e-07</td>\n",
       "      <td>2.709754e-08</td>\n",
       "      <td>-1.047473e-07</td>\n",
       "      <td>6.156120e-07</td>\n",
       "      <td>-2.116315e-06</td>\n",
       "      <td>-1.872924e-06</td>\n",
       "      <td>3.991558e-07</td>\n",
       "      <td>-2.448489e-07</td>\n",
       "      <td>2.474903e-07</td>\n",
       "      <td>3.373336e-09</td>\n",
       "    </tr>\n",
       "  </tbody>\n",
       "</table>\n",
       "<p>5 rows × 97 columns</p>\n",
       "</div>"
      ],
      "text/plain": [
       "             z1            z2            z3            z4            z5  \\\n",
       "0  3.479755e-11  1.729669e-06 -1.074505e-06  1.696733e-06  1.408154e-06   \n",
       "1 -5.774669e-10 -9.667019e-07 -1.172746e-06 -8.148441e-07 -1.085682e-06   \n",
       "2  7.974670e-10  5.440602e-07  5.968525e-07 -2.136242e-08 -2.463316e-07   \n",
       "3 -2.959882e-10  3.390513e-07  2.861875e-07  1.237342e-06  1.548561e-06   \n",
       "4  1.426321e-10 -8.383938e-07 -8.720060e-08 -1.354042e-06 -1.309397e-06   \n",
       "\n",
       "             z6            z7            z8            z9           z10  ...  \\\n",
       "0 -1.247660e-06  4.392523e-07 -1.822577e-07 -1.978193e-06 -4.215552e-08  ...   \n",
       "1 -2.618001e-08  1.536875e-06 -4.809667e-07  7.355430e-08  1.620232e-06  ...   \n",
       "2  4.842712e-07 -8.860241e-07  6.470653e-07  5.430934e-07 -1.458603e-06  ...   \n",
       "3 -4.017564e-07 -7.252355e-07 -5.407646e-07 -1.974723e-08 -8.548541e-07  ...   \n",
       "4  9.558595e-07  9.235621e-07  1.726365e-06  1.359531e-07 -4.867452e-07  ...   \n",
       "\n",
       "            z88           z89           z90           z91           z92  \\\n",
       "0 -3.758139e-07 -2.056056e-07 -1.810260e-06  1.181334e-06  4.510038e-07   \n",
       "1 -9.616060e-07 -3.501720e-07  2.454178e-06 -9.384168e-07 -2.559091e-07   \n",
       "2  1.308622e-06 -1.009185e-06 -2.592479e-06 -1.474458e-06 -1.413626e-06   \n",
       "3 -1.048949e-06  7.127258e-07  5.924098e-07 -6.060519e-07  2.269420e-06   \n",
       "4 -6.893331e-07  2.709754e-08 -1.047473e-07  6.156120e-07 -2.116315e-06   \n",
       "\n",
       "            z93           z94           z95           z96           z97  \n",
       "0  4.933022e-08 -1.209462e-06  8.495825e-08 -1.360888e-07 -8.673617e-19  \n",
       "1  9.168085e-07  8.087109e-07  7.078943e-07  4.946341e-07 -6.505213e-19  \n",
       "2  1.379344e-07 -3.167636e-07 -5.100911e-07 -4.025520e-07  1.301043e-18  \n",
       "3  3.904686e-07 -5.901801e-07  9.370105e-07  1.087443e-07 -3.373336e-09  \n",
       "4 -1.872924e-06  3.991558e-07 -2.448489e-07  2.474903e-07  3.373336e-09  \n",
       "\n",
       "[5 rows x 97 columns]"
      ]
     },
     "execution_count": 1,
     "metadata": {},
     "output_type": "execute_result"
    }
   ],
   "source": [
    "import pandas as pd\n",
    "import numpy as np\n",
    "import matplotlib.pyplot as plt\n",
    "\n",
    "df= pd.read_csv(\"DifAmp_Data_set.csv\")\n",
    "df= df.iloc[:,1:]\n",
    "\n",
    "df.iloc[:,0:97].head()"
   ]
  },
  {
   "cell_type": "code",
   "execution_count": 2,
   "metadata": {},
   "outputs": [],
   "source": [
    "import keras\n",
    "from keras.models import Sequential\n",
    "from keras.layers import Dense\n",
    "from keras.optimizers import Adam"
   ]
  },
  {
   "cell_type": "code",
   "execution_count": 3,
   "metadata": {},
   "outputs": [
    {
     "name": "stdout",
     "output_type": "stream",
     "text": [
      "Model: \"sequential\"\n",
      "_________________________________________________________________\n",
      "Layer (type)                 Output Shape              Param #   \n",
      "=================================================================\n",
      "dense (Dense)                (None, 90)                8820      \n",
      "_________________________________________________________________\n",
      "dense_1 (Dense)              (None, 45)                4095      \n",
      "_________________________________________________________________\n",
      "dense_2 (Dense)              (None, 25)                1150      \n",
      "_________________________________________________________________\n",
      "dense_3 (Dense)              (None, 45)                1170      \n",
      "_________________________________________________________________\n",
      "dense_4 (Dense)              (None, 90)                4140      \n",
      "_________________________________________________________________\n",
      "dense_5 (Dense)              (None, 97)                8827      \n",
      "=================================================================\n",
      "Total params: 28,202\n",
      "Trainable params: 28,202\n",
      "Non-trainable params: 0\n",
      "_________________________________________________________________\n"
     ]
    }
   ],
   "source": [
    "model = Sequential()\n",
    "model.add(Dense(90, input_shape=(97,),activation='relu'))\n",
    "model.add(Dense(45,activation=\"relu\"))\n",
    "model.add(Dense(25,activation=\"relu\"))\n",
    "model.add(Dense(45,activation=\"relu\"))\n",
    "\n",
    "model.add(Dense(90,activation=\"relu\"))\n",
    "model.add(Dense(97,activation=\"sigmoid\"))\n",
    "\n",
    "model.summary()"
   ]
  },
  {
   "cell_type": "code",
   "execution_count": 4,
   "metadata": {},
   "outputs": [],
   "source": [
    "model.compile(optimizer='adam',loss='mae')\n"
   ]
  },
  {
   "cell_type": "code",
   "execution_count": 5,
   "metadata": {},
   "outputs": [
    {
     "data": {
      "text/html": [
       "<div>\n",
       "<style scoped>\n",
       "    .dataframe tbody tr th:only-of-type {\n",
       "        vertical-align: middle;\n",
       "    }\n",
       "\n",
       "    .dataframe tbody tr th {\n",
       "        vertical-align: top;\n",
       "    }\n",
       "\n",
       "    .dataframe thead th {\n",
       "        text-align: right;\n",
       "    }\n",
       "</style>\n",
       "<table border=\"1\" class=\"dataframe\">\n",
       "  <thead>\n",
       "    <tr style=\"text-align: right;\">\n",
       "      <th></th>\n",
       "      <th>z1</th>\n",
       "      <th>z2</th>\n",
       "      <th>z3</th>\n",
       "      <th>z4</th>\n",
       "      <th>z5</th>\n",
       "      <th>z6</th>\n",
       "      <th>z7</th>\n",
       "      <th>z8</th>\n",
       "      <th>z9</th>\n",
       "      <th>z10</th>\n",
       "      <th>...</th>\n",
       "      <th>z88</th>\n",
       "      <th>z89</th>\n",
       "      <th>z90</th>\n",
       "      <th>z91</th>\n",
       "      <th>z92</th>\n",
       "      <th>z93</th>\n",
       "      <th>z94</th>\n",
       "      <th>z95</th>\n",
       "      <th>z96</th>\n",
       "      <th>z97</th>\n",
       "    </tr>\n",
       "  </thead>\n",
       "  <tbody>\n",
       "    <tr>\n",
       "      <th>0</th>\n",
       "      <td>3.479755e-11</td>\n",
       "      <td>1.729669e-06</td>\n",
       "      <td>-1.074505e-06</td>\n",
       "      <td>1.696733e-06</td>\n",
       "      <td>1.408154e-06</td>\n",
       "      <td>-1.247660e-06</td>\n",
       "      <td>4.392523e-07</td>\n",
       "      <td>-1.822577e-07</td>\n",
       "      <td>-1.978193e-06</td>\n",
       "      <td>-4.215552e-08</td>\n",
       "      <td>...</td>\n",
       "      <td>-3.758139e-07</td>\n",
       "      <td>-2.056056e-07</td>\n",
       "      <td>-1.810260e-06</td>\n",
       "      <td>1.181334e-06</td>\n",
       "      <td>4.510038e-07</td>\n",
       "      <td>4.933022e-08</td>\n",
       "      <td>-1.209462e-06</td>\n",
       "      <td>8.495825e-08</td>\n",
       "      <td>-1.360888e-07</td>\n",
       "      <td>-8.673617e-19</td>\n",
       "    </tr>\n",
       "    <tr>\n",
       "      <th>1</th>\n",
       "      <td>-5.774669e-10</td>\n",
       "      <td>-9.667019e-07</td>\n",
       "      <td>-1.172746e-06</td>\n",
       "      <td>-8.148441e-07</td>\n",
       "      <td>-1.085682e-06</td>\n",
       "      <td>-2.618001e-08</td>\n",
       "      <td>1.536875e-06</td>\n",
       "      <td>-4.809667e-07</td>\n",
       "      <td>7.355430e-08</td>\n",
       "      <td>1.620232e-06</td>\n",
       "      <td>...</td>\n",
       "      <td>-9.616060e-07</td>\n",
       "      <td>-3.501720e-07</td>\n",
       "      <td>2.454178e-06</td>\n",
       "      <td>-9.384168e-07</td>\n",
       "      <td>-2.559091e-07</td>\n",
       "      <td>9.168085e-07</td>\n",
       "      <td>8.087109e-07</td>\n",
       "      <td>7.078943e-07</td>\n",
       "      <td>4.946341e-07</td>\n",
       "      <td>-6.505213e-19</td>\n",
       "    </tr>\n",
       "    <tr>\n",
       "      <th>2</th>\n",
       "      <td>7.974670e-10</td>\n",
       "      <td>5.440602e-07</td>\n",
       "      <td>5.968525e-07</td>\n",
       "      <td>-2.136242e-08</td>\n",
       "      <td>-2.463316e-07</td>\n",
       "      <td>4.842712e-07</td>\n",
       "      <td>-8.860241e-07</td>\n",
       "      <td>6.470653e-07</td>\n",
       "      <td>5.430934e-07</td>\n",
       "      <td>-1.458603e-06</td>\n",
       "      <td>...</td>\n",
       "      <td>1.308622e-06</td>\n",
       "      <td>-1.009185e-06</td>\n",
       "      <td>-2.592479e-06</td>\n",
       "      <td>-1.474458e-06</td>\n",
       "      <td>-1.413626e-06</td>\n",
       "      <td>1.379344e-07</td>\n",
       "      <td>-3.167636e-07</td>\n",
       "      <td>-5.100911e-07</td>\n",
       "      <td>-4.025520e-07</td>\n",
       "      <td>1.301043e-18</td>\n",
       "    </tr>\n",
       "    <tr>\n",
       "      <th>3</th>\n",
       "      <td>-2.959882e-10</td>\n",
       "      <td>3.390513e-07</td>\n",
       "      <td>2.861875e-07</td>\n",
       "      <td>1.237342e-06</td>\n",
       "      <td>1.548561e-06</td>\n",
       "      <td>-4.017564e-07</td>\n",
       "      <td>-7.252355e-07</td>\n",
       "      <td>-5.407646e-07</td>\n",
       "      <td>-1.974723e-08</td>\n",
       "      <td>-8.548541e-07</td>\n",
       "      <td>...</td>\n",
       "      <td>-1.048949e-06</td>\n",
       "      <td>7.127258e-07</td>\n",
       "      <td>5.924098e-07</td>\n",
       "      <td>-6.060519e-07</td>\n",
       "      <td>2.269420e-06</td>\n",
       "      <td>3.904686e-07</td>\n",
       "      <td>-5.901801e-07</td>\n",
       "      <td>9.370105e-07</td>\n",
       "      <td>1.087443e-07</td>\n",
       "      <td>-3.373336e-09</td>\n",
       "    </tr>\n",
       "    <tr>\n",
       "      <th>4</th>\n",
       "      <td>1.426321e-10</td>\n",
       "      <td>-8.383938e-07</td>\n",
       "      <td>-8.720060e-08</td>\n",
       "      <td>-1.354042e-06</td>\n",
       "      <td>-1.309397e-06</td>\n",
       "      <td>9.558595e-07</td>\n",
       "      <td>9.235621e-07</td>\n",
       "      <td>1.726365e-06</td>\n",
       "      <td>1.359531e-07</td>\n",
       "      <td>-4.867452e-07</td>\n",
       "      <td>...</td>\n",
       "      <td>-6.893331e-07</td>\n",
       "      <td>2.709754e-08</td>\n",
       "      <td>-1.047473e-07</td>\n",
       "      <td>6.156120e-07</td>\n",
       "      <td>-2.116315e-06</td>\n",
       "      <td>-1.872924e-06</td>\n",
       "      <td>3.991558e-07</td>\n",
       "      <td>-2.448489e-07</td>\n",
       "      <td>2.474903e-07</td>\n",
       "      <td>3.373336e-09</td>\n",
       "    </tr>\n",
       "  </tbody>\n",
       "</table>\n",
       "<p>5 rows × 97 columns</p>\n",
       "</div>"
      ],
      "text/plain": [
       "             z1            z2            z3            z4            z5  \\\n",
       "0  3.479755e-11  1.729669e-06 -1.074505e-06  1.696733e-06  1.408154e-06   \n",
       "1 -5.774669e-10 -9.667019e-07 -1.172746e-06 -8.148441e-07 -1.085682e-06   \n",
       "2  7.974670e-10  5.440602e-07  5.968525e-07 -2.136242e-08 -2.463316e-07   \n",
       "3 -2.959882e-10  3.390513e-07  2.861875e-07  1.237342e-06  1.548561e-06   \n",
       "4  1.426321e-10 -8.383938e-07 -8.720060e-08 -1.354042e-06 -1.309397e-06   \n",
       "\n",
       "             z6            z7            z8            z9           z10  ...  \\\n",
       "0 -1.247660e-06  4.392523e-07 -1.822577e-07 -1.978193e-06 -4.215552e-08  ...   \n",
       "1 -2.618001e-08  1.536875e-06 -4.809667e-07  7.355430e-08  1.620232e-06  ...   \n",
       "2  4.842712e-07 -8.860241e-07  6.470653e-07  5.430934e-07 -1.458603e-06  ...   \n",
       "3 -4.017564e-07 -7.252355e-07 -5.407646e-07 -1.974723e-08 -8.548541e-07  ...   \n",
       "4  9.558595e-07  9.235621e-07  1.726365e-06  1.359531e-07 -4.867452e-07  ...   \n",
       "\n",
       "            z88           z89           z90           z91           z92  \\\n",
       "0 -3.758139e-07 -2.056056e-07 -1.810260e-06  1.181334e-06  4.510038e-07   \n",
       "1 -9.616060e-07 -3.501720e-07  2.454178e-06 -9.384168e-07 -2.559091e-07   \n",
       "2  1.308622e-06 -1.009185e-06 -2.592479e-06 -1.474458e-06 -1.413626e-06   \n",
       "3 -1.048949e-06  7.127258e-07  5.924098e-07 -6.060519e-07  2.269420e-06   \n",
       "4 -6.893331e-07  2.709754e-08 -1.047473e-07  6.156120e-07 -2.116315e-06   \n",
       "\n",
       "            z93           z94           z95           z96           z97  \n",
       "0  4.933022e-08 -1.209462e-06  8.495825e-08 -1.360888e-07 -8.673617e-19  \n",
       "1  9.168085e-07  8.087109e-07  7.078943e-07  4.946341e-07 -6.505213e-19  \n",
       "2  1.379344e-07 -3.167636e-07 -5.100911e-07 -4.025520e-07  1.301043e-18  \n",
       "3  3.904686e-07 -5.901801e-07  9.370105e-07  1.087443e-07 -3.373336e-09  \n",
       "4 -1.872924e-06  3.991558e-07 -2.448489e-07  2.474903e-07  3.373336e-09  \n",
       "\n",
       "[5 rows x 97 columns]"
      ]
     },
     "execution_count": 5,
     "metadata": {},
     "output_type": "execute_result"
    }
   ],
   "source": [
    "x=df.iloc[:, 0:97]\n",
    "y=df[\"isIntrusion\"]\n",
    "from sklearn.model_selection import train_test_split\n",
    "x_train, x_test, y_train, y_test = train_test_split(x, y, test_size=0.25, random_state=0,shuffle =False)\n",
    "x_train.head()"
   ]
  },
  {
   "cell_type": "code",
   "execution_count": 6,
   "metadata": {},
   "outputs": [
    {
     "name": "stdout",
     "output_type": "stream",
     "text": [
      "Epoch 1/20\n",
      "38/38 [==============================] - 0s 9ms/step - loss: 0.4646 - val_loss: 0.3265\n",
      "Epoch 2/20\n",
      "38/38 [==============================] - 0s 3ms/step - loss: 0.0757 - val_loss: 2.1097e-04\n",
      "Epoch 3/20\n",
      "38/38 [==============================] - 0s 2ms/step - loss: 9.1853e-05 - val_loss: 5.5742e-05\n",
      "Epoch 4/20\n",
      "38/38 [==============================] - 0s 3ms/step - loss: 4.8155e-05 - val_loss: 3.8946e-05\n",
      "Epoch 5/20\n",
      "38/38 [==============================] - 0s 2ms/step - loss: 3.2598e-05 - val_loss: 2.5214e-05\n",
      "Epoch 6/20\n",
      "38/38 [==============================] - 0s 2ms/step - loss: 2.1141e-05 - val_loss: 1.6502e-05\n",
      "Epoch 7/20\n",
      "38/38 [==============================] - 0s 2ms/step - loss: 1.4388e-05 - val_loss: 1.1677e-05\n",
      "Epoch 8/20\n",
      "38/38 [==============================] - 0s 3ms/step - loss: 1.0685e-05 - val_loss: 9.0225e-06\n",
      "Epoch 9/20\n",
      "38/38 [==============================] - 0s 2ms/step - loss: 8.6181e-06 - val_loss: 7.5052e-06\n",
      "Epoch 10/20\n",
      "38/38 [==============================] - 0s 2ms/step - loss: 7.4072e-06 - val_loss: 6.5929e-06\n",
      "Epoch 11/20\n",
      "38/38 [==============================] - 0s 2ms/step - loss: 6.6634e-06 - val_loss: 6.0195e-06\n",
      "Epoch 12/20\n",
      "38/38 [==============================] - 0s 2ms/step - loss: 6.1854e-06 - val_loss: 5.6432e-06\n",
      "Epoch 13/20\n",
      "38/38 [==============================] - 0s 2ms/step - loss: 5.8664e-06 - val_loss: 5.3875e-06\n",
      "Epoch 14/20\n",
      "38/38 [==============================] - 0s 2ms/step - loss: 5.6464e-06 - val_loss: 5.2082e-06\n",
      "Epoch 15/20\n",
      "38/38 [==============================] - 0s 3ms/step - loss: 5.4903e-06 - val_loss: 5.0785e-06\n",
      "Epoch 16/20\n",
      "38/38 [==============================] - 0s 3ms/step - loss: 5.3761e-06 - val_loss: 4.9836e-06\n",
      "Epoch 17/20\n",
      "38/38 [==============================] - 0s 2ms/step - loss: 5.2910e-06 - val_loss: 4.9120e-06\n",
      "Epoch 18/20\n",
      "38/38 [==============================] - 0s 2ms/step - loss: 5.2259e-06 - val_loss: 4.8568e-06\n",
      "Epoch 19/20\n",
      "38/38 [==============================] - 0s 2ms/step - loss: 5.1753e-06 - val_loss: 4.8140e-06\n",
      "Epoch 20/20\n",
      "38/38 [==============================] - 0s 2ms/step - loss: 5.1356e-06 - val_loss: 4.7803e-06\n"
     ]
    },
    {
     "data": {
      "text/plain": [
       "<tensorflow.python.keras.callbacks.History at 0x1ac6963efc8>"
      ]
     },
     "execution_count": 6,
     "metadata": {},
     "output_type": "execute_result"
    }
   ],
   "source": [
    "model.fit(x_train,x_train,batch_size=20,epochs=20, validation_data=(x_test, x_test))"
   ]
  },
  {
   "cell_type": "code",
   "execution_count": 56,
   "metadata": {},
   "outputs": [
    {
     "name": "stdout",
     "output_type": "stream",
     "text": [
      "(250,)\n"
     ]
    },
    {
     "data": {
      "text/plain": [
       "(array([29., 39., 34., 28., 22., 12., 22., 14., 12.,  7.,  2.,  1.,  1.,\n",
       "         2.,  2.,  2.,  1.,  0.,  0.,  0.,  0.,  0.,  3.,  1.,  1.,  2.,\n",
       "         1.,  1.,  0.,  0.,  1.,  1.,  1.,  0.,  0.,  1.,  0.,  2.,  1.,\n",
       "         1.,  0.,  0.,  0.,  0.,  0.,  1.,  0.,  0.,  0.,  2.]),\n",
       " array([1.47027133e-06, 1.97624978e-06, 2.48222822e-06, 2.98820667e-06,\n",
       "        3.49418512e-06, 4.00016356e-06, 4.50614201e-06, 5.01212046e-06,\n",
       "        5.51809890e-06, 6.02407735e-06, 6.53005580e-06, 7.03603424e-06,\n",
       "        7.54201269e-06, 8.04799113e-06, 8.55396958e-06, 9.05994803e-06,\n",
       "        9.56592647e-06, 1.00719049e-05, 1.05778834e-05, 1.10838618e-05,\n",
       "        1.15898403e-05, 1.20958187e-05, 1.26017972e-05, 1.31077756e-05,\n",
       "        1.36137540e-05, 1.41197325e-05, 1.46257109e-05, 1.51316894e-05,\n",
       "        1.56376678e-05, 1.61436463e-05, 1.66496247e-05, 1.71556032e-05,\n",
       "        1.76615816e-05, 1.81675601e-05, 1.86735385e-05, 1.91795170e-05,\n",
       "        1.96854954e-05, 2.01914739e-05, 2.06974523e-05, 2.12034307e-05,\n",
       "        2.17094092e-05, 2.22153876e-05, 2.27213661e-05, 2.32273445e-05,\n",
       "        2.37333230e-05, 2.42393014e-05, 2.47452799e-05, 2.52512583e-05,\n",
       "        2.57572368e-05, 2.62632152e-05, 2.67691937e-05]),\n",
       " <a list of 50 Patch objects>)"
      ]
     },
     "execution_count": 56,
     "metadata": {},
     "output_type": "execute_result"
    },
    {
     "data": {
      "image/png": "[encoded data removed]",
      "text/plain": [
       "<Figure size 432x288 with 1 Axes>"
      ]
     },
     "metadata": {
      "needs_background": "light"
     },
     "output_type": "display_data"
    }
   ],
   "source": [
    "pred= model.predict(x_test)\n",
    "los= keras.losses.mae(pred,x_test)\n",
    "print(los.shape)\n",
    "plt.hist(los,bins=50)"
   ]
  },
  {
   "cell_type": "code",
   "execution_count": 57,
   "metadata": {},
   "outputs": [
    {
     "name": "stdout",
     "output_type": "stream",
     "text": [
      "4.780269139864414e-06 4.3538993995794256e-06\n"
     ]
    }
   ],
   "source": [
    "m=np.mean(los)\n",
    "s=np.std(los)\n",
    "print(m,s)"
   ]
  },
  {
   "cell_type": "markdown",
   "metadata": {},
   "source": [
    "### creating a dynamic envelop for finding threshold"
   ]
  },
  {
   "cell_type": "code",
   "execution_count": 58,
   "metadata": {},
   "outputs": [
    {
     "data": {
      "text/plain": [
       "Text(0.5, 1.0, 'Plot of enevelop')"
      ]
     },
     "execution_count": 58,
     "metadata": {},
     "output_type": "execute_result"
    },
    {
     "data": {
      "image/png": "[encoded data removed]",
      "text/plain": [
       "<Figure size 864x360 with 1 Axes>"
      ]
     },
     "metadata": {
      "needs_background": "light"
     },
     "output_type": "display_data"
    }
   ],
   "source": [
    "#  creating threshold envelop\n",
    "new_thresh1=pred+2.3*s;\n",
    "\n",
    "new_thresh2=pred-2.3*s;\n",
    "plt.figure(figsize=(12, 5))\n",
    "plt.plot(new_thresh1[0],color=\"r\")\n",
    "plt.plot(new_thresh2[0],color=\"r\")\n",
    "plt.title(\"Plot of enevelop\")"
   ]
  },
  {
   "cell_type": "code",
   "execution_count": 59,
   "metadata": {},
   "outputs": [
    {
     "data": {
      "image/png": "[encoded data removed]",
      "text/plain": [
       "<Figure size 1296x576 with 1 Axes>"
      ]
     },
     "metadata": {
      "needs_background": "light"
     },
     "output_type": "display_data"
    }
   ],
   "source": [
    "plt.figure(figsize=(18, 8))\n",
    "x1=[x for x in range(1,98)]\n",
    "plt.plot(x1,pred[102],label=\"predicted differnce value\")\n",
    "plt.plot(x1,x.iloc[102],label=\"original differnce value\")\n",
    "# plt.axhline(y=thr, color='r', linestyle='-')\n",
    "plt.plot(x1,new_thresh1[102],color='r', label=\"threshold value\")\n",
    "plt.plot(x1,new_thresh2[102],color='r')\n",
    "plt.legend(loc='upper left')\n",
    "plt.xticks(np.arange(1, 98, 2.0))\n",
    "plt.show()"
   ]
  },
  {
   "cell_type": "code",
   "execution_count": 60,
   "metadata": {},
   "outputs": [],
   "source": [
    "list1=[0*x for x in range(250)]\n",
    "\n",
    "for i in range(250):\n",
    "    temp=[]\n",
    "    for j in range(97):\n",
    "        data= x.iloc[i][j];\n",
    "        if data> new_thresh1[i][j] or data< new_thresh2[i][j]:\n",
    "            if list1[i]==0:\n",
    "                list1[i]=j+1\n"
   ]
  },
  {
   "cell_type": "code",
   "execution_count": 61,
   "metadata": {},
   "outputs": [
    {
     "name": "stdout",
     "output_type": "stream",
     "text": [
      "237  percentage  96.73469387755101\n"
     ]
    }
   ],
   "source": [
    "correct=0       \n",
    "for i in range(250):\n",
    "    if list1[i]==df[\"intrusion_zone\"][i]:\n",
    "        correct+=1\n",
    "        \n",
    "print(correct, \" percentage \", correct/2.45)\n"
   ]
  },
  {
   "cell_type": "markdown",
   "metadata": {},
   "source": [
    "form the model we can see 236/245 casesa are correctly predicted\n",
    "\n",
    "##### model accuray is 96.3265%"
   ]
  },
  {
   "cell_type": "code",
   "execution_count": 96,
   "metadata": {},
   "outputs": [
    {
     "name": "stdout",
     "output_type": "stream",
     "text": [
      "Zone of intrusion  : 10\n",
      "Zone of intrusion  : 20\n",
      "Zone of intrusion  : 70\n"
     ]
    }
   ],
   "source": [
    "def prediction_zone(inp_trace):\n",
    "    pred_trace=model.predict(inp_trace)\n",
    "    new_thresh1=pred_trace[0]+2.3*s;\n",
    "    new_thresh2=pred_trace[0]-2.3*s;\n",
    "    for j in range(97):\n",
    "        data=inp_trace.iloc[0][j]\n",
    "        if data> new_thresh1[j] or data< new_thresh2[j]:\n",
    "            return j+1\n",
    "\n",
    "print(\"Zone of intrusion  :\", prediction_zone(x.iloc[102:103]))\n",
    "print(\"Zone of intrusion  :\", prediction_zone(x.iloc[202:203]))\n",
    "print(\"Zone of intrusion  :\", prediction_zone(x.iloc[702:703]))"
   ]
  }
 ],
 "metadata": {
  "kernelspec": {
   "display_name": "Python 3",
   "language": "python",
   "name": "python3"
  },
  "language_info": {
   "codemirror_mode": {
    "name": "ipython",
    "version": 3
   },
   "file_extension": ".py",
   "mimetype": "text/x-python",
   "name": "python",
   "nbconvert_exporter": "python",
   "pygments_lexer": "ipython3",
   "version": "3.7.6"
  }
 },
 "nbformat": 4,
 "nbformat_minor": 4
}
